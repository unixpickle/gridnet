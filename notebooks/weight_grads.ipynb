{
 "cells": [
  {
   "cell_type": "code",
   "execution_count": null,
   "metadata": {},
   "outputs": [],
   "source": [
    "import matplotlib.pyplot as plt\n",
    "import torch\n",
    "import torch.nn.functional as F\n",
    "\n",
    "from gridnet.scripts.train_mnist_echo import Model, iterate_data"
   ]
  },
  {
   "cell_type": "code",
   "execution_count": null,
   "metadata": {},
   "outputs": [],
   "source": [
    "device = torch.device('cpu')"
   ]
  },
  {
   "cell_type": "code",
   "execution_count": null,
   "metadata": {},
   "outputs": [],
   "source": [
    "model = Model(\n",
    "    inner_iters=8,\n",
    "    outer_iters=6,\n",
    "    init_scale=2.0,\n",
    "    residual_scale=1.0,\n",
    "    gated=True,\n",
    "    remember_bias=-2.0,\n",
    "    activation='tanh',\n",
    "    device=device,\n",
    ")\n",
    "# Note: try uncommenting this, it gets worse.\n",
    "# model.network.normalize = True\n",
    "# model.norm = torch.nn.Identity()"
   ]
  },
  {
   "cell_type": "code",
   "execution_count": null,
   "metadata": {},
   "outputs": [],
   "source": [
    "inputs, targets = next(iterate_data(1, train=True))\n",
    "inputs = inputs.to(device)\n",
    "targets = targets.to(device)\n",
    "preds = model(inputs)\n",
    "train_loss = (preds - inputs).pow(2).mean()\n",
    "train_loss.backward()"
   ]
  },
  {
   "cell_type": "code",
   "execution_count": null,
   "metadata": {},
   "outputs": [],
   "source": [
    "def plot_grad_norm(grads, name):\n",
    "    norms = torch.linalg.norm(grads.reshape(-1, grads.shape[-1]), dim=0)\n",
    "    plt.plot(norms.tolist(), label=name)\n",
    "\n",
    "plot_grad_norm(model.network.weight.grad, 'weight')\n",
    "plot_grad_norm(model.network.bias.grad, 'bias')\n",
    "plt.xlabel('spatial grid x')\n",
    "plt.ylabel('grad norm')\n",
    "plt.yscale('log')\n",
    "plt.legend()\n",
    "plt.show()"
   ]
  }
 ],
 "metadata": {
  "kernelspec": {
   "display_name": "Python 3",
   "language": "python",
   "name": "python3"
  },
  "language_info": {
   "codemirror_mode": {
    "name": "ipython",
    "version": 3
   },
   "file_extension": ".py",
   "mimetype": "text/x-python",
   "name": "python",
   "nbconvert_exporter": "python",
   "pygments_lexer": "ipython3",
   "version": "3.10.12"
  },
  "orig_nbformat": 4
 },
 "nbformat": 4,
 "nbformat_minor": 2
}
